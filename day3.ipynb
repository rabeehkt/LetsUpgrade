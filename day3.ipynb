{
 "cells": [
  {
   "cell_type": "markdown",
   "metadata": {},
   "source": [
    "# Question 1"
   ]
  },
  {
   "cell_type": "markdown",
   "metadata": {},
   "source": [
    "Write a Python program to add two numbers using class and object.<br>\n",
    "(Take both numbers as input from the user)<br>"
   ]
  },
  {
   "cell_type": "code",
   "execution_count": 3,
   "metadata": {},
   "outputs": [
    {
     "name": "stdout",
     "output_type": "stream",
     "text": [
      "23\n",
      "27\n",
      "sum: 50\n"
     ]
    }
   ],
   "source": [
    "class sum():\n",
    "    def findsum(self,a,b):\n",
    "        s=a+b\n",
    "        return s\n",
    "    \n",
    "a=int(input())\n",
    "b=int(input())\n",
    "\n",
    "obj=sum()\n",
    "s=obj.findsum(a,b)\n",
    "print(\"sum:\",s)\n",
    "        \n",
    "        "
   ]
  },
  {
   "cell_type": "markdown",
   "metadata": {},
   "source": [
    "# Question 2"
   ]
  },
  {
   "cell_type": "markdown",
   "metadata": {},
   "source": [
    "Define a function swap that should swap two values and print the swapped variables <br>\n",
    "outside the swap function.<br>"
   ]
  },
  {
   "cell_type": "code",
   "execution_count": 15,
   "metadata": {},
   "outputs": [
    {
     "name": "stdout",
     "output_type": "stream",
     "text": [
      "43\n",
      "66\n",
      "66 43\n"
     ]
    }
   ],
   "source": [
    "\n",
    "def swap(a,b):\n",
    "    return b,a\n",
    "a=int(input())\n",
    "b=int(input())\n",
    "a,b= swap(a,b)\n",
    "print(a,b)\n"
   ]
  }
 ],
 "metadata": {
  "kernelspec": {
   "display_name": "Python 3",
   "language": "python",
   "name": "python3"
  },
  "language_info": {
   "codemirror_mode": {
    "name": "ipython",
    "version": 3
   },
   "file_extension": ".py",
   "mimetype": "text/x-python",
   "name": "python",
   "nbconvert_exporter": "python",
   "pygments_lexer": "ipython3",
   "version": "3.7.6"
  }
 },
 "nbformat": 4,
 "nbformat_minor": 4
}
